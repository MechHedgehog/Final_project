{
  "nbformat": 4,
  "nbformat_minor": 0,
  "metadata": {
    "colab": {
      "name": "read-friend-chat",
      "provenance": [],
      "authorship_tag": "ABX9TyPktBIATX+bM4z0IQOgbCxM",
      "include_colab_link": true
    },
    "kernelspec": {
      "name": "python3",
      "display_name": "Python 3"
    }
  },
  "cells": [
    {
      "cell_type": "markdown",
      "metadata": {
        "id": "view-in-github",
        "colab_type": "text"
      },
      "source": [
        "<a href=\"https://colab.research.google.com/github/MechHedgehog/Final_project/blob/main/read_friend_chat.ipynb\" target=\"_parent\"><img src=\"https://colab.research.google.com/assets/colab-badge.svg\" alt=\"Open In Colab\"/></a>"
      ]
    },
    {
      "cell_type": "code",
      "metadata": {
        "colab": {
          "base_uri": "https://localhost:8080/"
        },
        "id": "rf37-l1iKaXx",
        "outputId": "f18b013b-1164-44a9-fb24-a2499a4ecaba"
      },
      "source": [
        "!pip install vk"
      ],
      "execution_count": 2,
      "outputs": [
        {
          "output_type": "stream",
          "text": [
            "Collecting vk\n",
            "  Downloading https://files.pythonhosted.org/packages/9f/fd/698ba8b622ba57d7d936aaf7bf8256fec4e7e2e1c2f3b36fc04381df5281/vk-2.0.2.tar.gz\n",
            "Requirement already satisfied: requests<3.0,>=2.8 in /usr/local/lib/python3.6/dist-packages (from vk) (2.23.0)\n",
            "Requirement already satisfied: urllib3!=1.25.0,!=1.25.1,<1.26,>=1.21.1 in /usr/local/lib/python3.6/dist-packages (from requests<3.0,>=2.8->vk) (1.24.3)\n",
            "Requirement already satisfied: certifi>=2017.4.17 in /usr/local/lib/python3.6/dist-packages (from requests<3.0,>=2.8->vk) (2020.6.20)\n",
            "Requirement already satisfied: idna<3,>=2.5 in /usr/local/lib/python3.6/dist-packages (from requests<3.0,>=2.8->vk) (2.10)\n",
            "Requirement already satisfied: chardet<4,>=3.0.2 in /usr/local/lib/python3.6/dist-packages (from requests<3.0,>=2.8->vk) (3.0.4)\n",
            "Building wheels for collected packages: vk\n",
            "  Building wheel for vk (setup.py) ... \u001b[?25l\u001b[?25hdone\n",
            "  Created wheel for vk: filename=vk-2.0.2-cp36-none-any.whl size=8276 sha256=5db5059a0679e67f09e0d4c62eab5914724b6e76ba7f48b9d3e283aeaac408cd\n",
            "  Stored in directory: /root/.cache/pip/wheels/4c/48/d1/09749ec47d9a30d166122773811f4ccb406f5234f2d84fd29d\n",
            "Successfully built vk\n",
            "Installing collected packages: vk\n",
            "Successfully installed vk-2.0.2\n"
          ],
          "name": "stdout"
        }
      ]
    },
    {
      "cell_type": "code",
      "metadata": {
        "colab": {
          "base_uri": "https://localhost:8080/",
          "height": 368
        },
        "id": "dagHFOpxG5ND",
        "outputId": "25d577da-d03c-4033-d5a6-0739ec00466e"
      },
      "source": [
        "import vk\n",
        "import time\n",
        "import re\n",
        "\n",
        "session = vk.Session(access_token='here will be token')\n",
        "vkapi = vk.API(session)\n",
        "\n",
        "friends = vkapi('friends.get') #getting list of friends\n",
        "\n",
        "def get_dialogs(user):\n",
        "\tdialogs = vkapi('messages.getDialogs', user_id=user)\n",
        "\treturn dialogs\n",
        "\n",
        "\n",
        "def get_history(friend, sleep_time=0.3):\n",
        "\ti = 0\n",
        "  friend_dialog = get_dialogs(friend)\n",
        "\ttime.sleep(sleep_time)\n",
        "\tdialog_len = friend_dialog[0]\n",
        "\tfriend_history = []\n",
        "  resid = dialog_len\n",
        "  offset = 0\n",
        "\twhile resid > 0:\n",
        "    friend_history += vkapi('messages.getHistory', user_id=friend, \n",
        "                            count=200, offset=offset)\n",
        "    time.sleep(sleep_time)\n",
        "    resid -= 200\n",
        "    offset += 200\n",
        "    if resid > 0:\n",
        "      print('--processing', friend, ':', resid, \n",
        "        'of', dialog_len, 'messages left')\n",
        "\t\t\n",
        "\n",
        "\tprint('processed', friend, 'chat' )\n",
        "\treturn friend_history"
      ],
      "execution_count": 1,
      "outputs": [
        {
          "output_type": "error",
          "ename": "ModuleNotFoundError",
          "evalue": "ignored",
          "traceback": [
            "\u001b[0;31m---------------------------------------------------------------------------\u001b[0m",
            "\u001b[0;31mModuleNotFoundError\u001b[0m                       Traceback (most recent call last)",
            "\u001b[0;32m<ipython-input-1-40b604f9b0c3>\u001b[0m in \u001b[0;36m<module>\u001b[0;34m()\u001b[0m\n\u001b[0;32m----> 1\u001b[0;31m \u001b[0;32mimport\u001b[0m \u001b[0mvk\u001b[0m\u001b[0;34m\u001b[0m\u001b[0;34m\u001b[0m\u001b[0m\n\u001b[0m\u001b[1;32m      2\u001b[0m \u001b[0;32mimport\u001b[0m \u001b[0mtime\u001b[0m\u001b[0;34m\u001b[0m\u001b[0;34m\u001b[0m\u001b[0m\n\u001b[1;32m      3\u001b[0m \u001b[0;32mimport\u001b[0m \u001b[0mre\u001b[0m\u001b[0;34m\u001b[0m\u001b[0;34m\u001b[0m\u001b[0m\n\u001b[1;32m      4\u001b[0m \u001b[0;34m\u001b[0m\u001b[0m\n\u001b[1;32m      5\u001b[0m \u001b[0msession\u001b[0m \u001b[0;34m=\u001b[0m \u001b[0mvk\u001b[0m\u001b[0;34m.\u001b[0m\u001b[0mSession\u001b[0m\u001b[0;34m(\u001b[0m\u001b[0maccess_token\u001b[0m\u001b[0;34m=\u001b[0m\u001b[0;34m'your_token'\u001b[0m\u001b[0;34m)\u001b[0m\u001b[0;34m\u001b[0m\u001b[0;34m\u001b[0m\u001b[0m\n",
            "\u001b[0;31mModuleNotFoundError\u001b[0m: No module named 'vk'",
            "",
            "\u001b[0;31m---------------------------------------------------------------------------\u001b[0;32m\nNOTE: If your import is failing due to a missing package, you can\nmanually install dependencies using either !pip or !apt.\n\nTo view examples of installing some common dependencies, click the\n\"Open Examples\" button below.\n\u001b[0;31m---------------------------------------------------------------------------\u001b[0m\n"
          ]
        }
      ]
    }
  ]
}